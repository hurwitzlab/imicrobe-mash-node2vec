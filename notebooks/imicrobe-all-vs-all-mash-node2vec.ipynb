{
 "cells": [
  {
   "cell_type": "code",
   "execution_count": null,
   "metadata": {},
   "outputs": [],
   "source": [
    "from collections import defaultdict\n",
    "import os.path\n",
    "import re\n",
    "\n",
    "%matplotlib inline\n",
    "import matplotlib.pyplot as plt\n",
    "from matplotlib.backends.backend_pdf import PdfPages\n",
    "from matplotlib import colors\n",
    "import pandas as pd\n",
    "from sklearn.manifold import TSNE"
   ]
  },
  {
   "cell_type": "code",
   "execution_count": null,
   "metadata": {},
   "outputs": [],
   "source": [
    "all_vs_all_mash_fp = '../emb_stampede2/all-imicrobe-dist.txt'\n",
    "with open(all_vs_all_mash_fp, 'rt') as all_vs_all_mash_file:\n",
    "    all_vs_all_mash_file.read(len('#query '))\n",
    "    all_vs_all_mash_df = pd.read_table(all_vs_all_mash_file)\n",
    "all_vs_all_mash_df.head()"
   ]
  },
  {
   "cell_type": "code",
   "execution_count": null,
   "metadata": {},
   "outputs": [],
   "source": [
    "emb_100_nodes_fp = '../emb_stampede2/all-imicrobe-dist_similarity_limit_100.emb'\n",
    "with open(emb_100_nodes_fp, 'rt') as emb_file:\n",
    "    row_count, column_count = [int(i) for i in emb_file.readline().split(' ')]\n",
    "    emb_100_nodes_df = pd.read_table(\n",
    "        emb_file,\n",
    "        sep=' ',\n",
    "        header=None,\n",
    "        names=['el{}'.format(v) for v in range(column_count)])\n",
    "emb_100_nodes_df.head()"
   ]
  },
  {
   "cell_type": "code",
   "execution_count": null,
   "metadata": {},
   "outputs": [],
   "source": [
    "emb_tsne = TSNE(n_components=2, init='pca').fit_transform(emb_100_nodes_df)\n",
    "emb_tsne.shape"
   ]
  },
  {
   "cell_type": "code",
   "execution_count": null,
   "metadata": {},
   "outputs": [],
   "source": [
    "project_re = re.compile(r'projects/(?P<project>\\d+)/samples/(?P<sample>\\d+)')\n",
    "all_vs_all_mash_df.index[0]\n",
    "print(project_re.search(all_vs_all_mash_df.index[0]).groupdict())\n",
    "sample_to_project = {\n",
    "    int(m.group('sample')): int(m.group('project'))\n",
    "    for m\n",
    "    in [project_re.search(r) for r in all_vs_all_mash_df.index]\n",
    "}\n",
    "print('sample_to_project has {} keys'.format(len(sample_to_project)))"
   ]
  },
  {
   "cell_type": "code",
   "execution_count": null,
   "metadata": {},
   "outputs": [],
   "source": [
    "plt.scatter(emb_tsne[:, 0], emb_tsne[:, 1], c=[sample_to_project[r] for r in emb_100_nodes_df.index])\n",
    "plt.show()"
   ]
  },
  {
   "cell_type": "code",
   "execution_count": null,
   "metadata": {},
   "outputs": [],
   "source": [
    "plt.cm.RdBu(0.5)"
   ]
  },
  {
   "cell_type": "code",
   "execution_count": null,
   "metadata": {},
   "outputs": [],
   "source": [
    "def plot_n2v_emb(n2v_emb_fp, sample_to_project):\n",
    "    with open(n2v_emb_fp, 'rt') as emb_file:\n",
    "        row_count, column_count = [int(i) for i in emb_file.readline().split(' ')]\n",
    "        n2v_emb_df = pd.read_table(\n",
    "            emb_file,\n",
    "            sep=' ',\n",
    "            header=None,\n",
    "            names=['el{}'.format(v) for v in range(column_count)])\n",
    "\n",
    "    emb_tsne = pd.DataFrame(\n",
    "        data=TSNE(n_components=2, init='pca').fit_transform(n2v_emb_df),\n",
    "        index=n2v_emb_df.index,\n",
    "        columns=('X1', 'X2'))\n",
    "    \n",
    "    project_to_sample_list = defaultdict(list)\n",
    "    for s, p in sample_to_project.items():\n",
    "        project_to_sample_list[p].append(s)\n",
    "    \n",
    "    projects = set([sample_to_project[s] for s in n2v_emb_df.index])\n",
    "    project_colors = list(colors.get_named_colors_mapping().keys())\n",
    "    f = plt.figure(figsize=(8, 8))\n",
    "    for project in sorted(projects, key=lambda p: len(project_to_sample_list[p]), reverse=True):\n",
    "        samples_in_project = [s for s in n2v_emb_df.index if sample_to_project[s] == project]\n",
    "        plt.scatter(\n",
    "            emb_tsne.X1[samples_in_project],\n",
    "            emb_tsne.X2[samples_in_project],\n",
    "            s=50,\n",
    "            label=str(project),\n",
    "            #c=plt.cm.hot(1.0/project),\n",
    "            cmap=plt.cm.hot,\n",
    "            alpha=0.5)\n",
    "    plt.title(os.path.basename(n2v_emb_fp))\n",
    "    #plt.legend()\n",
    "    #plt.legend(bbox_to_anchor=(1.05, 1), loc=2, ncol=3, borderaxespad=0.)\n",
    "    f.show()\n",
    "    f.savefig(n2v_emb_fp + '.pdf', format='pdf')\n",
    "    projects = set([sample_to_project[s] for s in n2v_emb_df.index])\n",
    "    print('{} projects: {}'.format(len(projects), sorted(projects)))"
   ]
  },
  {
   "cell_type": "code",
   "execution_count": null,
   "metadata": {},
   "outputs": [],
   "source": [
    "plot_n2v_emb('../emb_stampede2/all-imicrobe-dist_similarity_limit_100.emb', sample_to_project)"
   ]
  },
  {
   "cell_type": "code",
   "execution_count": null,
   "metadata": {},
   "outputs": [],
   "source": [
    "plot_n2v_emb('../emb_stampede2/all-imicrobe-dist_similarity_limit_200.emb', sample_to_project)"
   ]
  },
  {
   "cell_type": "code",
   "execution_count": null,
   "metadata": {},
   "outputs": [],
   "source": [
    "plot_n2v_emb('../emb_stampede2/all-imicrobe-dist_similarity_limit_400.emb', sample_to_project)"
   ]
  },
  {
   "cell_type": "code",
   "execution_count": null,
   "metadata": {},
   "outputs": [],
   "source": [
    "plot_n2v_emb('../emb_stampede2/all-imicrobe-dist_similarity_limit_800.emb', sample_to_project)"
   ]
  },
  {
   "cell_type": "code",
   "execution_count": null,
   "metadata": {},
   "outputs": [],
   "source": [
    "plot_n2v_emb('../emb_stampede2/all-imicrobe-dist_similarity_limit_1600.emb', sample_to_project)"
   ]
  },
  {
   "cell_type": "code",
   "execution_count": null,
   "metadata": {},
   "outputs": [],
   "source": []
  }
 ],
 "metadata": {
  "language_info": {
   "name": "python",
   "pygments_lexer": "ipython3"
  }
 },
 "nbformat": 4,
 "nbformat_minor": 2
}
